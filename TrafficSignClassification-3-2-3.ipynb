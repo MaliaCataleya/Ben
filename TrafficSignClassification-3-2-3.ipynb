{
 "cells": [
  {
   "cell_type": "markdown",
   "metadata": {},
   "source": [
    "# Data Mining Versuch Verkehrsschilderkennung mit Neuronalen Netzen\n",
    "\n",
    "* Autor: Prof. Dr. Johannes Maucher\n",
    "* Datum: 01.06.2021"
   ]
  },
  {
   "cell_type": "markdown",
   "metadata": {},
   "source": [
    "# Einführung\n",
    "\n",
    "In diesem Versuch soll ein Convolutional Neural Network (CNN) für die Erkennung von Verkehrschildern implementiert, trainiert, evaluiert und getestet werden. Als Eingabe erhält das neuronale Netz Bilder von deutschen Verkehrsschildern. Ausgabe ist der Typ des Verkehrsschilds. Für Training und Test sind die Verkehrsschildbilder schon in separate Verzeichnissen abgelegt. Neben den Bildern selbst, enthält das zu diesem Versuch gehörende Datenverzeichnis auch Dateien mit Metadaten, die z.B. Bildeigenschaften, Verkehrsschildbedeutungen und die zugehörigen Klassenlabel beschreiben.\n",
    "\n",
    "## Lernziele:\n",
    "In diesem Versuch sollen Kenntnisse in folgenden Themen vermittelt werden:\n",
    "\n",
    "* Convolutional Neural Networks (CNNs)\n",
    "* Implementierung Tiefer Neuronaler Netze mit Tensorflow und Keras: \n",
    "    - Definition der Netzarchitektur\n",
    "    - Training\n",
    "    - Evaluation und Test\n",
    "    \n",
    "* Einfache Methoden der Bildverarbeitung:\n",
    "    - Augmentierung\n",
    "    - Kontrastverstärkung\n",
    "\n",
    "* Evaluation eines Klassifikators\n",
    "\n",
    "\n",
    "## Vorbereitung\n",
    "\n",
    "### Grundlagen Neuronale Netze\n",
    "Machen Sie sich mit den [Grundlagen herkömmlicher Neuronaler Netze (KI Vorlesung)](https://gitlab.mi.hdm-stuttgart.de/maucher/KI/blob/master/Slides/09_PartLernen4.pdf) und den [Grundlagen Convolutional Neural Networks ((KI Vorlesung))](https://gitlab.mi.hdm-stuttgart.de/maucher/KI/blob/master/Slides/V11DeepLearningKIversion.pdf) vertraut.\n",
    "\n",
    "\n",
    "### Implementierung Neuronaler Netze mit Tensorflow und Keras\n",
    "Machen Sie sich mit der Implementierung von Neuronalen Netzen mit Tensorflow und Keras vertraut. Z.B. mit den [Tensorflow Quickstart Tutorials](https://www.tensorflow.org/tutorials/quickstart/beginner)"
   ]
  },
  {
   "cell_type": "markdown",
   "metadata": {},
   "source": [
    "# Durchführung"
   ]
  },
  {
   "cell_type": "markdown",
   "metadata": {},
   "source": [
    "## Vorbereitende Untersuchungen\n",
    "1. Importieren Sie ein Bild aus dem Verzeichnis `Train` mit der [scikit-image.io](https://scikit-image.org/docs/dev/api/skimage.io.html)-Methode `imread()` und zeigen Sie dieses mit der Methode `imshow()` an. Geben Sie die Größe des Bildes aus (Attribut `.shape`). \n",
    "2. Verändern Sie die Größe des Bildes mit der [scikit-image.transform](https://scikit-image.org/docs/dev/api/skimage.transform.html)-Methode `resize()` auf eine Größe von $32x32x3$. Die Verzerrung des Seitenverhältnisses kann dabei ignoriert werden. Diese Methode führt auch eine Normalisierung der Pixelwerte von [0,255] auf [0,1] durch.\n",
    "3. Führen Sie mit der [scikit-image.exposure](https://scikit-image.org/docs/dev/api/skimage.exposure.html)-Methode `equalize_adapthist()` eine Kontrastverstärkung des Bildes durch. Zeigen Sie das vergrößerte und kontrastangereicherte Bild an. **Anmerkung:** Das kontrastverstärkte Bild sieht zwar unschöner aus, auf der Basis kontrastverstärkter Bilder läßt sich aber im allgemeinen die Objekterkennung verbessern.\n",
    "2. Importieren Sie die Datei `Train.csv` und machen Sie sich mit deren Inhalt vertraut. Die Datei `Test.csv` ist gleich strukturiert, bezieht sich aber auf die Bilder im Verzeichnis `Test`. Wieviele Zeilen enthalten die Dateien?\n",
    "3. Importieren Sie die Datei `signnames.csv` und machen Sie sich mit deren Inhalt vertraut. "
   ]
  },
  {
   "cell_type": "markdown",
   "metadata": {},
   "source": [
    "## <span style=\"color:#900C3F\">Dokumentation unserer Ergebnisse</span> \n",
    "\n",
    "Die Aufgabe war das Bild zunächst mit `imread()` einzulesen, dann mit `imshow()` anzuzeigen und schließlich die zugehörige shape auszugeben. Als Nächstes sollte man die Daten des Bildes auf die Größe von 32x32x3 umformen, was man mit der Methode `resize()` machen kann. Anschließend wurde eine Kontrastverstärkung auf das Bild gemacht, da sich die Objekte dadurch besser erkennen lassen. Nach der Verstärkung war die Aufgabe, `Train.csv` und `Test.csv` zu importieren und sich mit den Daten vertraut zu machen. Jeder Datensatz enthält die Breite, die Höhe, den Pfad des Bildes, Klassen und jeweils 2 x,y Roi-Koordinaten welche ein Viereck spannen. Zum Schluss sollte man die `signnames.csv` importieren, welche die Klassen zu bestimmten Verkehrszeichennamen zuordnet."
   ]
  },
  {
   "cell_type": "code",
   "execution_count": 3,
   "metadata": {},
   "outputs": [],
   "source": [
    "import skimage.io as io\n",
    "import numpy as np\n",
    "from skimage.transform import resize\n",
    "from skimage import exposure\n",
    "import pandas as pd\n",
    "import random\n",
    "import matplotlib.pyplot as plt\n",
    "from sklearn import preprocessing\n",
    "import tensorflow as tf\n",
    "from tensorflow.keras import datasets, layers, models, activations\n",
    "from tensorflow.keras.layers import Dense, BatchNormalization, Flatten, Dropout\n",
    "from tensorflow.keras.optimizers import Adam\n",
    "from tensorflow.keras.preprocessing.image import ImageDataGenerator\n",
    "from sklearn.metrics import classification_report"
   ]
  },
  {
   "cell_type": "code",
   "execution_count": 4,
   "metadata": {},
   "outputs": [
    {
     "name": "stdout",
     "output_type": "stream",
     "text": [
      "(30, 29, 3)\n",
      "Die Größe des Shapes beträgt: (30, 29, 3)\n"
     ]
    },
    {
     "data": {
      "image/png": "[encoded data removed]",
      "text/plain": [
       "<Figure size 432x288 with 1 Axes>"
      ]
     },
     "metadata": {
      "needs_background": "light"
     },
     "output_type": "display_data"
    }
   ],
   "source": [
    "#1\n",
    "picture = \"./data/Train/0/00000_00000_00000.png\"\n",
    "read_picture = io.imread(picture)\n",
    "print(read_picture.shape)\n",
    "io.imshow(read_picture)\n",
    "print(\"Die Größe des Shapes beträgt: \"+ str(np.asarray(read_picture).shape))"
   ]
  },
  {
   "cell_type": "code",
   "execution_count": 5,
   "metadata": {},
   "outputs": [
    {
     "name": "stdout",
     "output_type": "stream",
     "text": [
      "[[[0.29490273 0.30623851 0.31408165]\n",
      "  [0.29151731 0.29966682 0.30750996]\n",
      "  [0.32677313 0.33136872 0.32401195]\n",
      "  ...\n",
      "  [0.26469439 0.2890491  0.28816636]\n",
      "  [0.25685317 0.27065717 0.26650774]\n",
      "  [0.26033816 0.2646829  0.26063304]]\n",
      "\n",
      " [[0.32203202 0.32650506 0.33434819]\n",
      "  [0.31307062 0.31435738 0.32220052]\n",
      "  [0.34210708 0.33983992 0.32722886]\n",
      "  ...\n",
      "  [0.28667662 0.30154144 0.30167739]\n",
      "  [0.29604588 0.30346967 0.29294003]\n",
      "  [0.30789484 0.30864737 0.30100528]]\n",
      "\n",
      " [[0.31010072 0.31052964 0.31821768]\n",
      "  [0.33011451 0.32735715 0.33235677]\n",
      "  [0.35600299 0.34715839 0.34840878]\n",
      "  ...\n",
      "  [0.28417203 0.29217793 0.28327206]\n",
      "  [0.29078393 0.29468061 0.27684972]\n",
      "  [0.30621745 0.30642999 0.29178539]]\n",
      "\n",
      " ...\n",
      "\n",
      " [[0.49412722 0.5005936  0.51961742]\n",
      "  [0.46455461 0.48326823 0.50278991]\n",
      "  [0.42612783 0.45897097 0.47304305]\n",
      "  ...\n",
      "  [0.37747396 0.37774203 0.3555396 ]\n",
      "  [0.38808211 0.39505591 0.36803385]\n",
      "  [0.38648897 0.40401731 0.38655407]]\n",
      "\n",
      " [[0.3548292  0.36929764 0.38483456]\n",
      "  [0.35781633 0.38303845 0.40235907]\n",
      "  [0.30250651 0.34244409 0.35941713]\n",
      "  ...\n",
      "  [0.40912607 0.40644148 0.37961474]\n",
      "  [0.41986634 0.4343367  0.39964576]\n",
      "  [0.37675207 0.40685509 0.38202168]]\n",
      "\n",
      " [[0.33584942 0.33380438 0.34623162]\n",
      "  [0.36671645 0.38657705 0.40836397]\n",
      "  [0.27157054 0.31595818 0.33636259]\n",
      "  ...\n",
      "  [0.39765242 0.40022212 0.36835555]\n",
      "  [0.38453393 0.39852175 0.35401922]\n",
      "  [0.3553596  0.3821921  0.35033509]]]\n"
     ]
    }
   ],
   "source": [
    "#2\n",
    "resized_picture = resize(read_picture, (32, 32, 3))\n",
    "print(resized_picture)"
   ]
  },
  {
   "cell_type": "code",
   "execution_count": 6,
   "metadata": {},
   "outputs": [
    {
     "data": {
      "text/plain": [
       "<matplotlib.image.AxesImage at 0x7ff2403a4430>"
      ]
     },
     "execution_count": 6,
     "metadata": {},
     "output_type": "execute_result"
    },
    {
     "data": {
      "image/png": "[encoded data removed]",
      "text/plain": [
       "<Figure size 432x288 with 1 Axes>"
      ]
     },
     "metadata": {
      "needs_background": "light"
     },
     "output_type": "display_data"
    }
   ],
   "source": [
    "high_contrast_picture = exposure.equalize_adapthist(resized_picture)\n",
    "io.imshow(high_contrast_picture)"
   ]
  },
  {
   "cell_type": "markdown",
   "metadata": {},
   "source": [
    "#4\n",
    "Train.csv hat 39210 Zeilen und Test.csv hat 12631 Zeilen."
   ]
  },
  {
   "cell_type": "code",
   "execution_count": 7,
   "metadata": {},
   "outputs": [
    {
     "data": {
      "text/html": [
       "<div>\n",
       "<style scoped>\n",
       "    .dataframe tbody tr th:only-of-type {\n",
       "        vertical-align: middle;\n",
       "    }\n",
       "\n",
       "    .dataframe tbody tr th {\n",
       "        vertical-align: top;\n",
       "    }\n",
       "\n",
       "    .dataframe thead th {\n",
       "        text-align: right;\n",
       "    }\n",
       "</style>\n",
       "<table border=\"1\" class=\"dataframe\">\n",
       "  <thead>\n",
       "    <tr style=\"text-align: right;\">\n",
       "      <th></th>\n",
       "      <th>ClassId</th>\n",
       "      <th>SignName</th>\n",
       "    </tr>\n",
       "  </thead>\n",
       "  <tbody>\n",
       "    <tr>\n",
       "      <th>0</th>\n",
       "      <td>0</td>\n",
       "      <td>Speed limit (20km/h)</td>\n",
       "    </tr>\n",
       "    <tr>\n",
       "      <th>1</th>\n",
       "      <td>1</td>\n",
       "      <td>Speed limit (30km/h)</td>\n",
       "    </tr>\n",
       "    <tr>\n",
       "      <th>2</th>\n",
       "      <td>2</td>\n",
       "      <td>Speed limit (50km/h)</td>\n",
       "    </tr>\n",
       "    <tr>\n",
       "      <th>3</th>\n",
       "      <td>3</td>\n",
       "      <td>Speed limit (60km/h)</td>\n",
       "    </tr>\n",
       "    <tr>\n",
       "      <th>4</th>\n",
       "      <td>4</td>\n",
       "      <td>Speed limit (70km/h)</td>\n",
       "    </tr>\n",
       "    <tr>\n",
       "      <th>5</th>\n",
       "      <td>5</td>\n",
       "      <td>Speed limit (80km/h)</td>\n",
       "    </tr>\n",
       "    <tr>\n",
       "      <th>6</th>\n",
       "      <td>6</td>\n",
       "      <td>End of speed limit (80km/h)</td>\n",
       "    </tr>\n",
       "    <tr>\n",
       "      <th>7</th>\n",
       "      <td>7</td>\n",
       "      <td>Speed limit (100km/h)</td>\n",
       "    </tr>\n",
       "    <tr>\n",
       "      <th>8</th>\n",
       "      <td>8</td>\n",
       "      <td>Speed limit (120km/h)</td>\n",
       "    </tr>\n",
       "    <tr>\n",
       "      <th>9</th>\n",
       "      <td>9</td>\n",
       "      <td>No passing</td>\n",
       "    </tr>\n",
       "    <tr>\n",
       "      <th>10</th>\n",
       "      <td>10</td>\n",
       "      <td>No passing for vehicles over 3.5 metric tons</td>\n",
       "    </tr>\n",
       "    <tr>\n",
       "      <th>11</th>\n",
       "      <td>11</td>\n",
       "      <td>Right-of-way at the next intersection</td>\n",
       "    </tr>\n",
       "    <tr>\n",
       "      <th>12</th>\n",
       "      <td>12</td>\n",
       "      <td>Priority road</td>\n",
       "    </tr>\n",
       "    <tr>\n",
       "      <th>13</th>\n",
       "      <td>13</td>\n",
       "      <td>Yield</td>\n",
       "    </tr>\n",
       "    <tr>\n",
       "      <th>14</th>\n",
       "      <td>14</td>\n",
       "      <td>Stop</td>\n",
       "    </tr>\n",
       "    <tr>\n",
       "      <th>15</th>\n",
       "      <td>15</td>\n",
       "      <td>No vehicles</td>\n",
       "    </tr>\n",
       "    <tr>\n",
       "      <th>16</th>\n",
       "      <td>16</td>\n",
       "      <td>Vehicles over 3.5 metric tons prohibited</td>\n",
       "    </tr>\n",
       "    <tr>\n",
       "      <th>17</th>\n",
       "      <td>17</td>\n",
       "      <td>No entry</td>\n",
       "    </tr>\n",
       "    <tr>\n",
       "      <th>18</th>\n",
       "      <td>18</td>\n",
       "      <td>General caution</td>\n",
       "    </tr>\n",
       "    <tr>\n",
       "      <th>19</th>\n",
       "      <td>19</td>\n",
       "      <td>Dangerous curve to the left</td>\n",
       "    </tr>\n",
       "    <tr>\n",
       "      <th>20</th>\n",
       "      <td>20</td>\n",
       "      <td>Dangerous curve to the right</td>\n",
       "    </tr>\n",
       "    <tr>\n",
       "      <th>21</th>\n",
       "      <td>21</td>\n",
       "      <td>Double curve</td>\n",
       "    </tr>\n",
       "    <tr>\n",
       "      <th>22</th>\n",
       "      <td>22</td>\n",
       "      <td>Bumpy road</td>\n",
       "    </tr>\n",
       "    <tr>\n",
       "      <th>23</th>\n",
       "      <td>23</td>\n",
       "      <td>Slippery road</td>\n",
       "    </tr>\n",
       "    <tr>\n",
       "      <th>24</th>\n",
       "      <td>24</td>\n",
       "      <td>Road narrows on the right</td>\n",
       "    </tr>\n",
       "    <tr>\n",
       "      <th>25</th>\n",
       "      <td>25</td>\n",
       "      <td>Road work</td>\n",
       "    </tr>\n",
       "    <tr>\n",
       "      <th>26</th>\n",
       "      <td>26</td>\n",
       "      <td>Traffic signals</td>\n",
       "    </tr>\n",
       "    <tr>\n",
       "      <th>27</th>\n",
       "      <td>27</td>\n",
       "      <td>Pedestrians</td>\n",
       "    </tr>\n",
       "    <tr>\n",
       "      <th>28</th>\n",
       "      <td>28</td>\n",
       "      <td>Children crossing</td>\n",
       "    </tr>\n",
       "    <tr>\n",
       "      <th>29</th>\n",
       "      <td>29</td>\n",
       "      <td>Bicycles crossing</td>\n",
       "    </tr>\n",
       "    <tr>\n",
       "      <th>30</th>\n",
       "      <td>30</td>\n",
       "      <td>Beware of ice/snow</td>\n",
       "    </tr>\n",
       "    <tr>\n",
       "      <th>31</th>\n",
       "      <td>31</td>\n",
       "      <td>Wild animals crossing</td>\n",
       "    </tr>\n",
       "    <tr>\n",
       "      <th>32</th>\n",
       "      <td>32</td>\n",
       "      <td>End of all speed and passing limits</td>\n",
       "    </tr>\n",
       "    <tr>\n",
       "      <th>33</th>\n",
       "      <td>33</td>\n",
       "      <td>Turn right ahead</td>\n",
       "    </tr>\n",
       "    <tr>\n",
       "      <th>34</th>\n",
       "      <td>34</td>\n",
       "      <td>Turn left ahead</td>\n",
       "    </tr>\n",
       "    <tr>\n",
       "      <th>35</th>\n",
       "      <td>35</td>\n",
       "      <td>Ahead only</td>\n",
       "    </tr>\n",
       "    <tr>\n",
       "      <th>36</th>\n",
       "      <td>36</td>\n",
       "      <td>Go straight or right</td>\n",
       "    </tr>\n",
       "    <tr>\n",
       "      <th>37</th>\n",
       "      <td>37</td>\n",
       "      <td>Go straight or left</td>\n",
       "    </tr>\n",
       "    <tr>\n",
       "      <th>38</th>\n",
       "      <td>38</td>\n",
       "      <td>Keep right</td>\n",
       "    </tr>\n",
       "    <tr>\n",
       "      <th>39</th>\n",
       "      <td>39</td>\n",
       "      <td>Keep left</td>\n",
       "    </tr>\n",
       "    <tr>\n",
       "      <th>40</th>\n",
       "      <td>40</td>\n",
       "      <td>Roundabout mandatory</td>\n",
       "    </tr>\n",
       "    <tr>\n",
       "      <th>41</th>\n",
       "      <td>41</td>\n",
       "      <td>End of no passing</td>\n",
       "    </tr>\n",
       "    <tr>\n",
       "      <th>42</th>\n",
       "      <td>42</td>\n",
       "      <td>End of no passing by vehicles over 3.5 metric ...</td>\n",
       "    </tr>\n",
       "  </tbody>\n",
       "</table>\n",
       "</div>"
      ],
      "text/plain": [
       "    ClassId                                           SignName\n",
       "0         0                               Speed limit (20km/h)\n",
       "1         1                               Speed limit (30km/h)\n",
       "2         2                               Speed limit (50km/h)\n",
       "3         3                               Speed limit (60km/h)\n",
       "4         4                               Speed limit (70km/h)\n",
       "5         5                               Speed limit (80km/h)\n",
       "6         6                        End of speed limit (80km/h)\n",
       "7         7                              Speed limit (100km/h)\n",
       "8         8                              Speed limit (120km/h)\n",
       "9         9                                         No passing\n",
       "10       10       No passing for vehicles over 3.5 metric tons\n",
       "11       11              Right-of-way at the next intersection\n",
       "12       12                                      Priority road\n",
       "13       13                                              Yield\n",
       "14       14                                               Stop\n",
       "15       15                                        No vehicles\n",
       "16       16           Vehicles over 3.5 metric tons prohibited\n",
       "17       17                                           No entry\n",
       "18       18                                    General caution\n",
       "19       19                        Dangerous curve to the left\n",
       "20       20                       Dangerous curve to the right\n",
       "21       21                                       Double curve\n",
       "22       22                                         Bumpy road\n",
       "23       23                                      Slippery road\n",
       "24       24                          Road narrows on the right\n",
       "25       25                                          Road work\n",
       "26       26                                    Traffic signals\n",
       "27       27                                        Pedestrians\n",
       "28       28                                  Children crossing\n",
       "29       29                                  Bicycles crossing\n",
       "30       30                                 Beware of ice/snow\n",
       "31       31                              Wild animals crossing\n",
       "32       32                End of all speed and passing limits\n",
       "33       33                                   Turn right ahead\n",
       "34       34                                    Turn left ahead\n",
       "35       35                                         Ahead only\n",
       "36       36                               Go straight or right\n",
       "37       37                                Go straight or left\n",
       "38       38                                         Keep right\n",
       "39       39                                          Keep left\n",
       "40       40                               Roundabout mandatory\n",
       "41       41                                  End of no passing\n",
       "42       42  End of no passing by vehicles over 3.5 metric ..."
      ]
     },
     "execution_count": 7,
     "metadata": {},
     "output_type": "execute_result"
    }
   ],
   "source": [
    "#5 \n",
    "signnames_file = \"./data/signnames.csv\"\n",
    "signnames = pd.read_csv(signnames_file)\n",
    "signnames"
   ]
  },
  {
   "cell_type": "markdown",
   "metadata": {},
   "source": [
    "## Funktion für den Import aller Trainings- bzw. Testbilder\n",
    "Schreiben Sie eine Funktion mit folgenden Eigenschaften:\n",
    "* Der Funktion wird der Name der Datei übergeben, in welcher die Metadaten stehen, also entweder `Train.csv` oder `Test.csv`.\n",
    "* Rückgabewerte der Funktion sind \n",
    "    * ein 4-dimensionales numpy-array, das alle Bilder des jeweiligen Verzeichnisses (Training oder Test) enthält.\n",
    "    * ein 1-dimensionales numpy-array, das die Klassenlabel aller Bilder enthält.\n",
    "* Die Bilder müssen alle auf eine Größe von $32x32x3$ skaliert werden (wie in der Vorbereitungsaufgabe).\n",
    "* Für alle Bilder ist eine Kontrastverstärkung durchzuführen (wie in der Vorbereitungsaufgabe).\n",
    "\n",
    "**Tipps für die Implementierung dieser Funktion:**\n",
    "\n",
    "Iterieren Sie mit einer for-Schleife über alle Zeilen des metadaten-Files. Pro Iteration kann dann \n",
    "* der vollständige Verzeichnis- und Filenamen ausgelesen werden,\n",
    "* das entsprechende Bild mit `imread()` eingelesen werden,\n",
    "* das Bild auf die vorgegebene Größe angepasst werden,\n",
    "* der Kontrast des Bildes verstärkt werden.\n",
    "\n",
    "**Wichtig:** In den von der Funktion zurückgegebenen Arrays, dürfen die Bilder nicht wie in der ursprünglichen Reihenfolge im Dateiverzeichnis enthalten sein. Um sicherzustellen, dass beim Training jedes Minibatch möglichst viele verschiedene Klassen enthält, muss die Reihenfolge geshuffelt werden. Am einfachsten ist es, wenn gleich die Zeilen des Metadatenfiles geshuffelt werden."
   ]
  },
  {
   "cell_type": "markdown",
   "metadata": {},
   "source": [
    "## <span style=\"color:#900C3F\">Dokumentation unserer Ergebnisse</span> \n",
    "\n",
    "In dieser Aufgabe sollte man die Bilder wie in der Aufgabe davor importieren, die Form `resizen()`, eine Kontrastverstärkung eines bestimmten Pfades durchführen, welcher als Parameter an die Funktion gegeben wird. Die Funktion gibt die Bilder in einem 4-dimensionalem Array mit den zugehörigen Klassenlabels zurück. Durch ein shuffle aus der random library werden die Daten beim Ausführen jedes Mal in einer unterschiedlichen Reihenfolge zurückgegeben."
   ]
  },
  {
   "cell_type": "code",
   "execution_count": 8,
   "metadata": {},
   "outputs": [],
   "source": [
    "def import_pictures(filename):\n",
    "    file_df = pd.read_csv(\"./data/\" + filename)\n",
    "    all_data = []\n",
    "    for i, row in file_df.iterrows():\n",
    "        data_row = []\n",
    "        for j in range(len(row)):\n",
    "            data_row.append(row[j])\n",
    "        all_data.append(data_row)\n",
    "    \n",
    "    all_data_shuffled = list(all_data)\n",
    "    random.shuffle(all_data_shuffled)\n",
    "        \n",
    "    all_image_data = []\n",
    "    all_class_labels = []\n",
    "    for row in all_data_shuffled:\n",
    "        image = row[len(row) - 1]\n",
    "        image_read = io.imread(\"./data/\" + image)\n",
    "        image_resized = resize(image_read, (32, 32, 3))\n",
    "        image_contrasted = exposure.equalize_adapthist(image_resized)\n",
    "        all_class_labels.append(row[len(row) - 2])\n",
    "        all_image_data.append(image_contrasted)\n",
    "    \n",
    "    print(all_image_data)\n",
    "\n",
    "    return np.array(all_image_data), np.array(all_class_labels)"
   ]
  },
  {
   "cell_type": "markdown",
   "metadata": {},
   "source": [
    "## Laden und Vorverarbeiten der Trainings- und Testdaten\n",
    "1. Laden Sie mit der in der vorigen Teilaufgabe implementierten Funktion alle Trainingsbilder (`trainX`), Trainingslabel (`trainY`), Testbilder (`testX`) und Testlabel (`testY`)\n",
    "1. Bestimmen Sie die Häufigkeitsverteilung der Klassen in den Trainings- und Testdaten. Visualisieren Sie diese.\n",
    "3. Alle Labels, sowohl der Trainings- als auch der Testdaten müssen One-Hot-encodiert werden."
   ]
  },
  {
   "cell_type": "markdown",
   "metadata": {},
   "source": [
    "## <span style=\"color:#900C3F\">Dokumentation unserer Ergebnisse</span> \n",
    "\n",
    "Zu Beginn sollten hier, jeweils für die Trainings- und Testdaten alle Bilder und Label importiert werden. Darauf sollte man die Häufigkeitsverteilung der Trainigslabel anzeigen. Diese wurden mit `matplotlib` geplotet und dargestellt. Im Vergleich sieht man kaum Unterschiede, was zeigt, dass die Trainingsdaten und Testdaten ähnlich sind. Allerdings gibt es auch ein paar Unterschiede, wie man bei dem X-Wert 41 erkennen kann. Zum Schluss sollten alle Label one-hot-encoded werden, wofür man den LabelBinarizer verwenden kann."
   ]
  },
  {
   "cell_type": "code",
   "execution_count": 9,
   "metadata": {},
   "outputs": [],
   "source": [
    "#1\n",
    "trainX, trainY = import_pictures(\"Train.csv\")\n",
    "testX, testY =  import_pictures(\"Test.csv\")"
   ]
  },
  {
   "cell_type": "code",
   "execution_count": 10,
   "metadata": {},
   "outputs": [
    {
     "data": {
      "image/png": "[encoded data removed]",
      "text/plain": [
       "<Figure size 700x500 with 1 Axes>"
      ]
     },
     "metadata": {
      "needs_background": "light"
     },
     "output_type": "display_data"
    }
   ],
   "source": [
    "#2\n",
    "plt.rcParams.update({'figure.figsize':(7,5), 'figure.dpi':100})\n",
    "\n",
    "myHist = plt.hist(trainY, bins=43)\n",
    "plt.gca().set(title='Trainingsklassen Häufigkeitsverteilung', ylabel='Häufigkeit');"
   ]
  },
  {
   "cell_type": "code",
   "execution_count": 11,
   "metadata": {},
   "outputs": [
    {
     "data": {
      "image/png": "[encoded data removed]",
      "text/plain": [
       "<Figure size 700x500 with 1 Axes>"
      ]
     },
     "metadata": {
      "needs_background": "light"
     },
     "output_type": "display_data"
    }
   ],
   "source": [
    "plt.hist(testY, bins=43)\n",
    "plt.gca().set(title='Testklassen Häufigkeitsverteilung', ylabel='Häufigkeit');"
   ]
  },
  {
   "cell_type": "code",
   "execution_count": 12,
   "metadata": {},
   "outputs": [
    {
     "name": "stdout",
     "output_type": "stream",
     "text": [
      "[[0 0 0 ... 0 0 0]\n",
      " [0 0 1 ... 0 0 0]\n",
      " [0 0 0 ... 0 0 0]\n",
      " ...\n",
      " [0 0 0 ... 0 0 0]\n",
      " [0 0 0 ... 0 0 0]\n",
      " [0 0 0 ... 0 0 0]]\n",
      "[[0 0 0 ... 0 0 0]\n",
      " [0 1 0 ... 0 0 0]\n",
      " [0 0 0 ... 0 0 0]\n",
      " ...\n",
      " [0 0 1 ... 0 0 0]\n",
      " [0 0 0 ... 0 0 0]\n",
      " [0 0 0 ... 0 0 0]]\n"
     ]
    }
   ],
   "source": [
    "#3 \n",
    "lb = preprocessing.LabelBinarizer()\n",
    "one_hot_econded_trainY = lb.fit_transform(trainY)\n",
    "one_hot_econded_testY = lb.fit_transform(testY)\n",
    "\n",
    "print(one_hot_econded_trainY)\n",
    "print(one_hot_econded_testY)"
   ]
  },
  {
   "cell_type": "markdown",
   "metadata": {},
   "source": [
    "## Definition der CNN Architektur\n",
    "Schreiben Sie eine Funktion `generateCNN(width, height, depth, classes)` die eine Keras CNN-Architektur zurück gibt. Für die Definition der Architektur werden dieser Funktion die Parameter:\n",
    "\n",
    "* `width`: Breite der Bilder\n",
    "* `height`: Höhe der Bilder\n",
    "* `depth`: Anzahl der Kanäle pro Bild\n",
    "* `classes`: Anzahl der unterschiedlichen Klassen\n",
    "\n",
    "übergeben. Die in der Funktion zu implementierende Architektur ist im folgenden Bild dargestellt. In der Spalte *Output shape* bezeichnen die zweite und dritte Zahl die Breite und die Höhe der einzelnen Kanäle (*Bilder*), der letzte Parameter bezeichnet die Anzahl der Kanäle (Parameter *filters* in der Konfiguration).\n",
    "In der Übersichtstabelle ist Filtergröße nicht aufgeführt. Empfohlen sind folgende Größen:\n",
    "* für alle Pooling Layer: *pool_size=(2,2)*.\n",
    "* für den ersten Conv2D-Layer: *kernel_size=(5,5)*.\n",
    "* für alle weiteren Conv2D-Layer: *kernel_size=(3,3)*\n",
    "\n",
    "**Anmerkung:** Der in der Tabelle mit *flatten_5* bezeichnete Layer ist nicht notwendig und erzeugt in bestimmten Keras-Versionen eine Fehlermeldung. Der Layer sollte nicht nicht in die Architektur mit aufgenommen werden.\n"
   ]
  },
  {
   "cell_type": "markdown",
   "metadata": {},
   "source": [
    "<img src=\"https://maucher.home.hdm-stuttgart.de/Pics/cnnTrafficSign.png\" style=\"width:700px\" align=\"middle\">"
   ]
  },
  {
   "cell_type": "markdown",
   "metadata": {},
   "source": [
    "## <span style=\"color:#900C3F\">Dokumentation unserer Ergebnisse</span> \n",
    "\n",
    "Diese Aufgabe war relativ schnell gelöst und hat daher auch viel Spaß gemacht. Man konnte einfach nach den gewünschten Layern suchen. Zudem hat die (berufliche) Erfahrung eines Gruppenmitglieds zu dem schnellen Ergebnis beigetragen. \n",
    "Lediglich zwei kleine Probleme sind aufgetreten, welche sich jedoch mit etwas Hilfe schnell lösen ließen. \n",
    "Einerseits passierte es, dass der input und output nicht die selbe ```shape```hatten. Die Lösung hierfür war, ```padding=\"same\"```hinzuzufügen. \n",
    "Die zweite Schwierigkeit war die falsche ```Output-Shape``` in der letzten Zeile. Da hatten wir jedoch lediglich vergessen, statt der relu die softmax-Aktivierungsfunktion zu verwenden. "
   ]
  },
  {
   "cell_type": "code",
   "execution_count": 13,
   "metadata": {},
   "outputs": [],
   "source": [
    "def generateCNN(width, height, depth, classes):\n",
    "    model = models.Sequential()\n",
    "    model.add(layers.Conv2D(8, (5, 5), input_shape=(width, height, depth), padding='same')) \n",
    "    model.add(layers.Activation(activations.relu))\n",
    "    model.add(BatchNormalization())\n",
    "    model.add(layers.MaxPooling2D((2, 2)))\n",
    "    model.add(layers.Conv2D(16, (3, 3), input_shape=(width, height, depth), padding='same'))\n",
    "    model.add(layers.Activation(activations.relu))\n",
    "    model.add(BatchNormalization())\n",
    "    model.add(layers.Conv2D(16, (3, 3), input_shape=(width, height, depth), padding='same'))\n",
    "    model.add(layers.Activation(activations.relu))\n",
    "    model.add(BatchNormalization())\n",
    "    model.add(layers.MaxPooling2D((2, 2)))\n",
    "    model.add(layers.Conv2D(32, (3, 3), input_shape=(width, height, depth), padding='same'))\n",
    "    model.add(layers.Activation(activations.relu))\n",
    "    model.add(BatchNormalization())\n",
    "    model.add(layers.Conv2D(32, (3, 3), input_shape=(width, height, depth), padding='same'))\n",
    "    model.add(layers.Activation(activations.relu))\n",
    "    model.add(layers.MaxPooling2D((2, 2)))\n",
    "    model.add(Flatten())\n",
    "    model.add(Dense(128))\n",
    "    model.add(layers.Activation(activations.relu))\n",
    "    model.add(BatchNormalization())\n",
    "    model.add(Dropout(0.2))\n",
    "    model.add(Dense(128, input_shape = (128,)))\n",
    "    model.add(layers.Activation(activations.relu))\n",
    "    model.add(BatchNormalization())\n",
    "    model.add(Dropout(0.2))\n",
    "    model.add(Dense(classes, input_shape = (128,)))\n",
    "    model.add(layers.Activation(activations.softmax))\n",
    "    return model\n"
   ]
  },
  {
   "cell_type": "markdown",
   "metadata": {},
   "source": [
    "## Training des CNN\n",
    "Rufen Sie die im vorigen Abschnitt implementierte Funktion `generateCNN()` auf und weisen Sie die von der Funktion zurückgegebene Architektur der Variablen `model` zu. Durch Aufruf der Funktion `model.summary()` erhalten Sie eine Übersicht des erzeugten Netzes.\n",
    "\n",
    "Für das Training soll der `Adam`-Algorithmus aus dem Modul `tensorflow.keras.optimizers` benutzt werden. `Adam` implementiert ein *Stochastic Gradient Descent*-Lernverfahren, welches die Lernraten für die Gewichte individuell und dynamisch anpasst.\n",
    "\n",
    "In den folgenden zwei Codezellen, werden die Trainingsparameter konfiguriert:"
   ]
  },
  {
   "cell_type": "code",
   "execution_count": 14,
   "metadata": {},
   "outputs": [
    {
     "name": "stdout",
     "output_type": "stream",
     "text": [
      "Model: \"sequential\"\n",
      "_________________________________________________________________\n",
      " Layer (type)                Output Shape              Param #   \n",
      "=================================================================\n",
      " conv2d (Conv2D)             (None, 32, 32, 8)         608       \n",
      "                                                                 \n",
      " activation (Activation)     (None, 32, 32, 8)         0         \n",
      "                                                                 \n",
      " batch_normalization (BatchN  (None, 32, 32, 8)        32        \n",
      " ormalization)                                                   \n",
      "                                                                 \n",
      " max_pooling2d (MaxPooling2D  (None, 16, 16, 8)        0         \n",
      " )                                                               \n",
      "                                                                 \n",
      " conv2d_1 (Conv2D)           (None, 16, 16, 16)        1168      \n",
      "                                                                 \n",
      " activation_1 (Activation)   (None, 16, 16, 16)        0         \n",
      "                                                                 \n",
      " batch_normalization_1 (Batc  (None, 16, 16, 16)       64        \n",
      " hNormalization)                                                 \n",
      "                                                                 \n",
      " conv2d_2 (Conv2D)           (None, 16, 16, 16)        2320      \n",
      "                                                                 \n",
      " activation_2 (Activation)   (None, 16, 16, 16)        0         \n",
      "                                                                 \n",
      " batch_normalization_2 (Batc  (None, 16, 16, 16)       64        \n",
      " hNormalization)                                                 \n",
      "                                                                 \n",
      " max_pooling2d_1 (MaxPooling  (None, 8, 8, 16)         0         \n",
      " 2D)                                                             \n",
      "                                                                 \n",
      " conv2d_3 (Conv2D)           (None, 8, 8, 32)          4640      \n",
      "                                                                 \n",
      " activation_3 (Activation)   (None, 8, 8, 32)          0         \n",
      "                                                                 \n",
      " batch_normalization_3 (Batc  (None, 8, 8, 32)         128       \n",
      " hNormalization)                                                 \n",
      "                                                                 \n",
      " conv2d_4 (Conv2D)           (None, 8, 8, 32)          9248      \n",
      "                                                                 \n",
      " activation_4 (Activation)   (None, 8, 8, 32)          0         \n",
      "                                                                 \n",
      " max_pooling2d_2 (MaxPooling  (None, 4, 4, 32)         0         \n",
      " 2D)                                                             \n",
      "                                                                 \n",
      " flatten (Flatten)           (None, 512)               0         \n",
      "                                                                 \n",
      " dense (Dense)               (None, 128)               65664     \n",
      "                                                                 \n",
      " activation_5 (Activation)   (None, 128)               0         \n",
      "                                                                 \n",
      " batch_normalization_4 (Batc  (None, 128)              512       \n",
      " hNormalization)                                                 \n",
      "                                                                 \n",
      " dropout (Dropout)           (None, 128)               0         \n",
      "                                                                 \n",
      " dense_1 (Dense)             (None, 128)               16512     \n",
      "                                                                 \n",
      " activation_6 (Activation)   (None, 128)               0         \n",
      "                                                                 \n",
      " batch_normalization_5 (Batc  (None, 128)              512       \n",
      " hNormalization)                                                 \n",
      "                                                                 \n",
      " dropout_1 (Dropout)         (None, 128)               0         \n",
      "                                                                 \n",
      " dense_2 (Dense)             (None, 43)                5547      \n",
      "                                                                 \n",
      " activation_7 (Activation)   (None, 43)                0         \n",
      "                                                                 \n",
      "=================================================================\n",
      "Total params: 107,019\n",
      "Trainable params: 106,363\n",
      "Non-trainable params: 656\n",
      "_________________________________________________________________\n"
     ]
    }
   ],
   "source": [
    "NUM_EPOCHS = 15 # Number of training epochs \n",
    "INIT_LR = 1e-3 # Initial Learning Rate for ADAM training\n",
    "BS = 64 # Size of minibatches\n",
    "opt = Adam(learning_rate=INIT_LR, decay=INIT_LR / (NUM_EPOCHS * 0.5)) \n",
    "\n",
    "model = generateCNN(32, 32, 3, 43)\n",
    "model.summary()\n",
    "model.compile(loss=\"categorical_crossentropy\", optimizer=opt, metrics=[\"accuracy\"])"
   ]
  },
  {
   "cell_type": "markdown",
   "metadata": {},
   "source": [
    "Für das Training sollen nicht nur die vorhandenen Trainingsbilder eingesetzt werden, sondern zusätzlich Bilder die Augmentierungen der Trainingsbilder sind. Augmentierte Bilder können mit dem `ImageDataGenerator` des Moduls `tensorflow.keras.preprocessing.image` erzeugt werden. Der Code für die Erzeugung des in diesem Projekt eingesetzten Objekts ist unten gegeben. \n",
    "\n",
    "**Aufgabe:** Erklären Sie was in dieser Codezelle definiert wird."
   ]
  },
  {
   "cell_type": "markdown",
   "metadata": {},
   "source": [
    "## <span style=\"color:#900C3F\">Dokumentation unserer Ergebnisse</span> \n",
    "\n",
    "1. Der Parameter `rotation_range` meint das Maß - in Grad (hier: 10 Grad) - in welchem die Bilder rotieren können, denn nicht alle Bilder können gleich ausgerichtet fotografiert werden - ein wenig Abweichung muss also mit einberechnet werden. \n",
    "2. `zoom_range` meint etwas Ähnliches wie `rotation_range`, nur geht es hier um eine Abweichung bzgl. des Zooms - sprich, ein paar Bilder wurden vielleicht etwas näher aufgenommen als andere.\n",
    "3. Ebenfalls ähnlich ist `width_shift_range`. Hier bezieht es sich auf die Abweichung des Verkehrszeichens auf der X-Achse."
   ]
  },
  {
   "cell_type": "code",
   "execution_count": 16,
   "metadata": {},
   "outputs": [],
   "source": [
    "# construct the image generator for data augmentation\n",
    "aug = ImageDataGenerator(\n",
    "    rotation_range=10,\n",
    "    zoom_range=0.15,\n",
    "    width_shift_range=0.1,\n",
    "    height_shift_range=0.1,\n",
    "    shear_range=0.15,\n",
    "    horizontal_flip=False,\n",
    "    vertical_flip=False,\n",
    "    fill_mode=\"nearest\")"
   ]
  },
  {
   "cell_type": "markdown",
   "metadata": {},
   "source": [
    "Das Training wird mit folgender Codezelle ausgeführt.\n",
    "\n",
    "**Aufgabe:** Erklären Sie die Argumente der Funktion `fit_generator()`. \n"
   ]
  },
  {
   "cell_type": "markdown",
   "metadata": {},
   "source": [
    "## <span style=\"color:#900C3F\">Dokumentation unserer Ergebnisse</span> \n",
    "\n",
    "1. ```aug.flow()``` transformiert die Eingabebilder so, dass unter dem Strich mehr Eingabedaten zur Verfügung stehen.\n",
    "2. ```validation_data``` definiert die Testdatensätze, welche für die Modellevaluation verwendet werden.\n",
    "3. ```steps_per_epoch``` spezifiziert wie viele \"Schritte\" eine Epoche durchläuft. Sprich wie oft eine Epoche 'X' Batches bestehend aus einer Stichprobe von 'Y' Elementen ausführt.\n",
    "4. ```epochs``` definiert dann die Anzahl an Epochen insgesamt.\n",
    "5. ```class_weight``` bietet das Gewicht zu jedem Klassenlabel. Die Gewichte können auch dazu verwendet werden, bestimmten unterpräsentierten Klassen beispielsweise 'mehr Aufmerksamkeit' während der Trainings zu schenken. In unserem Fall repräsentiert das jeweilige Gewicht den tatsächlichen Anteil an den zur Verfügung stehenden Daten.\n",
    "6. ```verbose``` gibt an, in welcher Art der Fortschritt der Trainings angezeigt werden soll. Im vorliegenden Fall in der Art des ```progress bar```, also einem Balken."
   ]
  },
  {
   "cell_type": "markdown",
   "metadata": {},
   "source": [
    "Für die Ausführung der folgenden Zelle muss das Dictionary `classWeight` (siehe Erklärung oben) angelegt sein. Dieses enthält für jede Klasse den Klassenindex als key und den relativen Anteil dieser Klasse in den Trainingsbildern als Value. Wenn z.B. 30% aller Trainingsdaten zur Klasse 0 gehören, dann wäre der Value zum Key 0 der Wert 0.3."
   ]
  },
  {
   "cell_type": "code",
   "execution_count": 17,
   "metadata": {},
   "outputs": [
    {
     "name": "stdout",
     "output_type": "stream",
     "text": [
      "{38: 0.05, 2: 0.06, 11: 0.03, 5: 0.05, 23: 0.01, 9: 0.04, 10: 0.05, 25: 0.04, 1: 0.06, 12: 0.05, 30: 0.01, 35: 0.03, 13: 0.06, 41: 0.01, 6: 0.01, 18: 0.03, 31: 0.02, 40: 0.01, 3: 0.04, 4: 0.05, 8: 0.04, 21: 0.01, 15: 0.02, 7: 0.04, 17: 0.03, 37: 0.01, 14: 0.02, 24: 0.01, 26: 0.02, 28: 0.01, 16: 0.01, 33: 0.02, 36: 0.01, 22: 0.01, 19: 0.01, 29: 0.01, 0: 0.01, 39: 0.01, 20: 0.01, 34: 0.01, 42: 0.01, 32: 0.01, 27: 0.01}\n"
     ]
    }
   ],
   "source": [
    "trainX = np.array(trainX)\n",
    "trainY = np.array(trainY)\n",
    "testX = np.array(testX)\n",
    "testY = np.array(testY)\n",
    "\n",
    "classWeight = dict()\n",
    "\n",
    "for label in trainY:\n",
    "    weight_keys = [key for key in classWeight.keys()]\n",
    "    if not(label in weight_keys):\n",
    "        classWeight[label] = 1\n",
    "    else: \n",
    "        classWeight[label] = classWeight[label] + 1\n",
    "    \n",
    "for item in classWeight:\n",
    "    classWeight[item] = round(classWeight[item] / len(trainY), 2)\n",
    "\n",
    "print(classWeight)\n",
    "    "
   ]
  },
  {
   "cell_type": "code",
   "execution_count": 18,
   "metadata": {},
   "outputs": [
    {
     "name": "stdout",
     "output_type": "stream",
     "text": [
      "[INFO] training network...\n"
     ]
    },
    {
     "name": "stderr",
     "output_type": "stream",
     "text": [
      "<ipython-input-18-51669aec0121>:3: UserWarning: `Model.fit_generator` is deprecated and will be removed in a future version. Please use `Model.fit`, which supports generators.\n",
      "  H = model.fit_generator(\n"
     ]
    },
    {
     "name": "stdout",
     "output_type": "stream",
     "text": [
      "Epoch 1/15\n",
      "612/612 [==============================] - 38s 61ms/step - loss: 0.0581 - accuracy: 0.4640 - val_loss: 1.1784 - val_accuracy: 0.6384\n",
      "Epoch 2/15\n",
      "612/612 [==============================] - 32s 52ms/step - loss: 0.0210 - accuracy: 0.7317 - val_loss: 0.6914 - val_accuracy: 0.7882\n",
      "Epoch 3/15\n",
      "612/612 [==============================] - 32s 52ms/step - loss: 0.0131 - accuracy: 0.8176 - val_loss: 0.4712 - val_accuracy: 0.8492\n",
      "Epoch 4/15\n",
      "612/612 [==============================] - 34s 55ms/step - loss: 0.0096 - accuracy: 0.8620 - val_loss: 0.3716 - val_accuracy: 0.8869\n",
      "Epoch 5/15\n",
      "612/612 [==============================] - 38s 61ms/step - loss: 0.0077 - accuracy: 0.8906 - val_loss: 0.3961 - val_accuracy: 0.8793\n",
      "Epoch 6/15\n",
      "612/612 [==============================] - 32s 52ms/step - loss: 0.0062 - accuracy: 0.9096 - val_loss: 0.3350 - val_accuracy: 0.8973\n",
      "Epoch 7/15\n",
      "612/612 [==============================] - 32s 52ms/step - loss: 0.0055 - accuracy: 0.9219 - val_loss: 0.3078 - val_accuracy: 0.9039\n",
      "Epoch 8/15\n",
      "612/612 [==============================] - 34s 55ms/step - loss: 0.0047 - accuracy: 0.9308 - val_loss: 0.2531 - val_accuracy: 0.9234\n",
      "Epoch 9/15\n",
      "612/612 [==============================] - 34s 56ms/step - loss: 0.0044 - accuracy: 0.9366 - val_loss: 0.3101 - val_accuracy: 0.9059\n",
      "Epoch 10/15\n",
      "612/612 [==============================] - 34s 55ms/step - loss: 0.0039 - accuracy: 0.9433 - val_loss: 0.2687 - val_accuracy: 0.9186\n",
      "Epoch 11/15\n",
      "612/612 [==============================] - 36s 58ms/step - loss: 0.0036 - accuracy: 0.9461 - val_loss: 0.1826 - val_accuracy: 0.9423\n",
      "Epoch 12/15\n",
      "612/612 [==============================] - 36s 58ms/step - loss: 0.0035 - accuracy: 0.9508 - val_loss: 0.1914 - val_accuracy: 0.9405\n",
      "Epoch 13/15\n",
      "612/612 [==============================] - 35s 58ms/step - loss: 0.0031 - accuracy: 0.9551 - val_loss: 0.2040 - val_accuracy: 0.9365\n",
      "Epoch 14/15\n",
      "612/612 [==============================] - 36s 58ms/step - loss: 0.0029 - accuracy: 0.9570 - val_loss: 0.2041 - val_accuracy: 0.9363\n",
      "Epoch 15/15\n",
      "612/612 [==============================] - 34s 55ms/step - loss: 0.0028 - accuracy: 0.9594 - val_loss: 0.2223 - val_accuracy: 0.9353\n"
     ]
    }
   ],
   "source": [
    "# compile the model and train the network\n",
    "print(\"[INFO] training network...\")\n",
    "H = model.fit_generator(\n",
    "    aug.flow(trainX, one_hot_econded_trainY, batch_size=BS),\n",
    "    validation_data=(testX, one_hot_econded_testY),\n",
    "    steps_per_epoch=trainX.shape[0] // BS,\n",
    "    epochs=NUM_EPOCHS,\n",
    "    class_weight=classWeight,\n",
    "    verbose=1)"
   ]
  },
  {
   "cell_type": "markdown",
   "metadata": {},
   "source": [
    "Visualisieren Sie die Entwicklung der *Accuracy* über dem Fortschritt der Trainingsepochen. Plotten Sie dabei die entsprechenden Kurven der Accuracy auf den Trainings- und auf den Testdaten in einen Graphen."
   ]
  },
  {
   "cell_type": "markdown",
   "metadata": {},
   "source": [
    "## <span style=\"color:#900C3F\">Dokumentation unserer Ergebnisse</span> \n",
    "\n",
    "Im folgenden Graph erkennt man gut, dass die Testdaten die Trainingsdaten gut annähern, wobei ein gewisser Grad an Verbesserung durchaus möglich ist (siehe peaks an Abweichungen). Dennoch sollte man darauf achten, overfitting zu vermeiden. "
   ]
  },
  {
   "cell_type": "code",
   "execution_count": 27,
   "metadata": {},
   "outputs": [
    {
     "data": {
      "image/png": "[encoded data removed]",
      "text/plain": [
       "<Figure size 700x500 with 1 Axes>"
      ]
     },
     "metadata": {
      "needs_background": "light"
     },
     "output_type": "display_data"
    }
   ],
   "source": [
    "plt.plot(H.history['accuracy'])\n",
    "plt.plot(H.history['val_accuracy'])\n",
    "plt.title('model accuracy')\n",
    "plt.ylabel('accuracy')\n",
    "plt.xlabel('epoch')\n",
    "plt.legend(['train', 'test'], loc='upper left')\n",
    "plt.show()"
   ]
  },
  {
   "cell_type": "markdown",
   "metadata": {},
   "source": [
    "## Evaluation des gelernten Modells\n",
    "\n",
    "Wenden Sie das gelernte CNN an, um für alle Bilder des Testdatensatzes die Art des Verkehrsschildes zu bestimmen. Evaluieren Sie die Qualität des CNN indem Sie einen `classification_report()` aus dem Modul `sklearn.metrics` erzeugen. \n",
    "\n",
    "1. Welche Metriken werden im Report angezeigt? Beschreiben Sie diese kurz?\n",
    "2. Diskutieren Sie die Klassifikationsgenauigkeit des CNN anhand des Reports.\n",
    "\n",
    "Zeigen Sie 5 Bilder an, die nicht korrekt klassifiziert wurden. Läßt sich die Fehlklassifikation erklären?"
   ]
  },
  {
   "cell_type": "markdown",
   "metadata": {},
   "source": [
    "## <span style=\"color:#900C3F\">Dokumentation unserer Ergebnisse</span> \n",
    "\n",
    "1. precision / recall / f1-score / support\n",
    "\n",
    "`Precision` - die Precision beschreibt wie viele der als Klasse X vorhergesagten auch tatsächlich Klasse X sind <br>\n",
    "`Recall` - der Recall zeigt wie viele derer, die wirklich zu Klasse X gehören, auch als Klasse X erkannt wurden <br>\n",
    "`F1-Score` - der F1-Score berechnet das harmonische Mittel aus Precision und Recall. <br>\n",
    "`Support` - der Support gibt an wie häufig die Klasse X in y_true vorkommt <br>\n",
    "`Accuracy` - totale Anzahl der korrekten Vorhersagen geteilt durch die totale Anzahl der Vorhersagen\n",
    "`Macro Average` - Durchschnitt des ungewichteten Mittels pro Klasse \n",
    "`weighted Average` - Durchschnitt des gewichteten Mittels pro Klasse \n",
    "\n",
    "\n",
    "Der Klassifikationsreport anhand der Testdaten zeigt ein sehr gutes Ergebnis. Die `Precision` fällt nie unter 0.81 und hat einen macro-Durschschnittswert von 0.94. Das zeigt, dass die `y_pred`, also die Vorhersage in ~0.94 der Fälle der tatsächlichen Klasse entspricht. Ebenso ist der `Recall` sehr hoch. Dieser fällt nur einmal auf 0.7 und hat einen macro-Durschschnittswert von 0.92. Es werden also ~0.92 aller Elemente einer Klasse auch tatsächlich dieser Klasse zugeordnet. Somit ergibt sich auch eine hohe `Accuracy` von 0.95. \n",
    "\n",
    "Auffällig ist jedoch, dass sich `Macro-average` und `Mean-average` leicht unterscheiden. Bei dem `Macro-average` wird danach gewichtet wie hoch der Anteil der Elemente einer Klasse an allen Elementen ist. Bei einem sehr unbalanciertem Datensatz z.B. einem Datensatz in dem protokolliert wird, wie viele von 100 Patienten auf die Krankheit Y positiv getestet wurden, kann es zu großen Differenzen der Klassen kommen und zu Gewichten von a=0.99 (negativ getestet) und b=0.01 (positiv getestet). In diesem Fall wäre a eine Mehrheitsklasse und b die Minderheitsklasse. Die Gewichte sind weit auseinander und unbalanciert. Wenn also wie bei der Berechnung des Macro-average die Gewichtung miteinbezogen wird, dann muss man darauf achten, dass die Klassen nicht zu unbalanciert sind. \n",
    "\n",
    "Bei der Berechnung des `Mean-average` werden diese Gewichte nicht beachtet. Somit würden a und b in diesem Fall gleich behandelt werden. \n",
    "In dem Fall von den Daten zu der Verkehrszeichenerkennung sind die Klassen ebenfalls nicht gleich verteilt. Das erkennt man an den unterschiedlichen Werten in der `Support`-Spalte. Allerdings sind die Differenzen nicht so signifikant wie bei dem Beispiel mit den Patienten. Es ergibt sich dennoch ein unterschiedlicher Wert für den `Weighted-Average`. Bei einem balancierten Datensatz würden die Werte von `Macro-Average` und `Mean-Average` übereinstimmen. Bei einem Klassenungleichgewicht wird die `Accuracy` ein ungenaues Ergebnis liefern, weil die Minderheitsklasse eventuell nicht erkannt wird. Darauf sollte man also achten bei dem Lesen eines solchen Klassifikationsreports. \n",
    "\n",
    "Die fehlerhafte Klassifikation der 5 ausgewählten Bilder lässt sich unter Anderem mithilfe der Kontrastverstärkung erklären. Vor allem bei Bild Nummer 1 ist es selbst mit den Augen nur schwer zu erkennen, welches Schild gemeint ist. \n",
    "Außerdem spielen auch schwierige Lichtverhältnisse eine nicht zu vernachlässigende Rolle. Beispielsweise erkennt man im letzten Bild einen regelrechten gelben Fleck - wohl aufgrund erhöhter Sonneneinstrahlung.\n",
    "Ein Beispiel von besonders wenig Lichteinstrahlung erkennt man im dritten Bild. \n",
    "\n",
    "Vor allem die falschen Klassifikationen aufgrund unterschiedlichster Lichtverhältnisse sollten im Bestfall 'vernichtet' werden, da es im Straßenverkehr immer wieder zu plötzlichen Verdunkelungen durch Wolken, Regen oder Tunnel kommen kann."
   ]
  },
  {
   "cell_type": "code",
   "execution_count": 20,
   "metadata": {},
   "outputs": [
    {
     "name": "stdout",
     "output_type": "stream",
     "text": [
      "              precision    recall  f1-score   support\n",
      "\n",
      "           0       0.94      0.97      0.95        60\n",
      "           1       0.98      0.98      0.98       720\n",
      "           2       0.98      0.95      0.97       750\n",
      "           3       0.97      0.95      0.96       450\n",
      "           4       0.98      0.97      0.97       660\n",
      "           5       0.87      0.97      0.92       630\n",
      "           6       0.95      0.95      0.95       150\n",
      "           7       0.97      0.86      0.91       450\n",
      "           8       0.86      0.96      0.91       450\n",
      "           9       0.90      0.99      0.94       480\n",
      "          10       1.00      0.95      0.97       660\n",
      "          11       0.88      0.87      0.88       420\n",
      "          12       1.00      0.98      0.99       690\n",
      "          13       0.99      1.00      0.99       720\n",
      "          14       0.98      1.00      0.99       270\n",
      "          15       0.98      0.94      0.96       210\n",
      "          16       0.92      0.97      0.94       150\n",
      "          17       1.00      0.94      0.97       360\n",
      "          18       0.99      0.71      0.83       390\n",
      "          19       0.66      0.88      0.76        60\n",
      "          20       0.76      0.80      0.78        90\n",
      "          21       0.90      0.49      0.63        90\n",
      "          22       0.97      0.86      0.91       120\n",
      "          23       0.73      0.85      0.78       150\n",
      "          24       0.92      0.90      0.91        90\n",
      "          25       0.88      0.99      0.93       480\n",
      "          26       0.97      0.88      0.92       180\n",
      "          27       0.48      0.77      0.59        60\n",
      "          28       0.90      0.92      0.91       150\n",
      "          29       0.61      0.98      0.75        90\n",
      "          30       0.66      0.55      0.60       150\n",
      "          31       0.99      0.93      0.96       270\n",
      "          32       1.00      0.97      0.98        60\n",
      "          33       0.97      0.99      0.98       210\n",
      "          34       0.91      1.00      0.95       120\n",
      "          35       0.98      0.97      0.97       390\n",
      "          36       0.92      0.99      0.95       120\n",
      "          37       0.81      0.97      0.88        60\n",
      "          38       1.00      0.98      0.99       690\n",
      "          39       0.96      0.90      0.93        90\n",
      "          40       0.73      0.91      0.81        90\n",
      "          41       0.88      0.73      0.80        60\n",
      "          42       1.00      0.68      0.81        90\n",
      "\n",
      "    accuracy                           0.94     12630\n",
      "   macro avg       0.90      0.90      0.89     12630\n",
      "weighted avg       0.94      0.94      0.94     12630\n",
      "\n"
     ]
    }
   ],
   "source": [
    "y_pred = model.predict(testX)\n",
    "y_true = testY\n",
    "y_preds = y_pred.argmax(axis = 1)\n",
    "\n",
    "report = classification_report(y_true, y_preds, labels=list(range(43)))\n",
    "print(report)"
   ]
  },
  {
   "cell_type": "code",
   "execution_count": 21,
   "metadata": {},
   "outputs": [
    {
     "data": {
      "text/plain": [
       "<matplotlib.image.AxesImage at 0x7ff1e528ad60>"
      ]
     },
     "execution_count": 21,
     "metadata": {},
     "output_type": "execute_result"
    },
    {
     "data": {
      "image/png": "[encoded data removed]",
      "text/plain": [
       "<Figure size 700x500 with 1 Axes>"
      ]
     },
     "metadata": {
      "needs_background": "light"
     },
     "output_type": "display_data"
    }
   ],
   "source": [
    "inputs = []\n",
    "\n",
    "for input, prediction, label in zip(testX, y_pred, y_true):\n",
    "    if(prediction is not label):\n",
    "        #print(input, 'has been classified as ', prediction, 'and should be ', label)\n",
    "        inputs.append(input)\n",
    "    \n",
    "io.imshow(inputs[0])\n",
    "#print(inputs[:5])"
   ]
  },
  {
   "cell_type": "code",
   "execution_count": 22,
   "metadata": {},
   "outputs": [
    {
     "data": {
      "text/plain": [
       "<matplotlib.image.AxesImage at 0x7ff1f6e55580>"
      ]
     },
     "execution_count": 22,
     "metadata": {},
     "output_type": "execute_result"
    },
    {
     "data": {
      "image/png": "[encoded data removed]",
      "text/plain": [
       "<Figure size 700x500 with 1 Axes>"
      ]
     },
     "metadata": {
      "needs_background": "light"
     },
     "output_type": "display_data"
    }
   ],
   "source": [
    "io.imshow(inputs[1])"
   ]
  },
  {
   "cell_type": "code",
   "execution_count": 23,
   "metadata": {},
   "outputs": [
    {
     "data": {
      "text/plain": [
       "<matplotlib.image.AxesImage at 0x7ff1e5dd55e0>"
      ]
     },
     "execution_count": 23,
     "metadata": {},
     "output_type": "execute_result"
    },
    {
     "data": {
      "image/png": "[encoded data removed]",
      "text/plain": [
       "<Figure size 700x500 with 1 Axes>"
      ]
     },
     "metadata": {
      "needs_background": "light"
     },
     "output_type": "display_data"
    }
   ],
   "source": [
    "io.imshow(inputs[2])"
   ]
  },
  {
   "cell_type": "code",
   "execution_count": 24,
   "metadata": {},
   "outputs": [
    {
     "data": {
      "text/plain": [
       "<matplotlib.image.AxesImage at 0x7ff1e7721d30>"
      ]
     },
     "execution_count": 24,
     "metadata": {},
     "output_type": "execute_result"
    },
    {
     "data": {
      "image/png": "[encoded data removed]",
      "text/plain": [
       "<Figure size 700x500 with 1 Axes>"
      ]
     },
     "metadata": {
      "needs_background": "light"
     },
     "output_type": "display_data"
    }
   ],
   "source": [
    "io.imshow(inputs[3])"
   ]
  },
  {
   "cell_type": "code",
   "execution_count": 25,
   "metadata": {},
   "outputs": [
    {
     "data": {
      "text/plain": [
       "<matplotlib.image.AxesImage at 0x7ff1e79700a0>"
      ]
     },
     "execution_count": 25,
     "metadata": {},
     "output_type": "execute_result"
    },
    {
     "data": {
      "image/png": "[encoded data removed]",
      "text/plain": [
       "<Figure size 700x500 with 1 Axes>"
      ]
     },
     "metadata": {
      "needs_background": "light"
     },
     "output_type": "display_data"
    }
   ],
   "source": [
    "io.imshow(inputs[4])"
   ]
  },
  {
   "cell_type": "markdown",
   "metadata": {},
   "source": [
    "## <span style=\"color:#900C3F\">Fazit</span> \n",
    "\n",
    "Auch der letzte Versuch aus der Reihe war wieder sehr interessant. Wir haben mehr darüber gelernt wie CNN funktionieren. Vor allem konnte man das sehen, beim Betrachten der Werte u.a. der Accuracy, die von Epoche zu Epoche stetig stiegen. Genau wie bei der Gesichtserkennung funktioniert die Klassifizierung erstaunlich gut, wenn man auch die Punkte der unbalance\n",
    ", wie im vorherigen Dokuabschnitt beschrieben, beachten muss. \n",
    "\n",
    "\n",
    "Abschließend können wir sagen, dass das ganze Modul sich wirklich gelohnt hat. Auch wenn es stimmt, was am Anfang gesagt wurde, dass es sehr zeitintensiv sein wird, hat man umso mehr gelernt. Geholfen haben dabei natürlich auch die sehr spannenden Themen z.B. der Versuch der Empfehlungssysteme/ Musikempfehlungen, die einem jeden Tag begegnen und bei denen man sich jetzt besser vorstellen kann wie sie funktionieren. \n",
    "\n",
    "Wir danken Ihnen an dieser Stelle für die Möglichkeit, diese Versuche durchzuführen. :)"
   ]
  },
  {
   "cell_type": "code",
   "execution_count": null,
   "metadata": {},
   "outputs": [],
   "source": []
  }
 ],
 "metadata": {
  "kernelspec": {
   "display_name": "Python 3",
   "language": "python",
   "name": "python3"
  },
  "language_info": {
   "codemirror_mode": {
    "name": "ipython",
    "version": 3
   },
   "file_extension": ".py",
   "mimetype": "text/x-python",
   "name": "python",
   "nbconvert_exporter": "python",
   "pygments_lexer": "ipython3",
   "version": "3.8.8"
  },
  "nav_menu": {},
  "toc": {
   "base_numbering": 1,
   "nav_menu": {},
   "number_sections": true,
   "sideBar": true,
   "skip_h1_title": false,
   "title_cell": "Table of Contents",
   "title_sidebar": "Contents",
   "toc_cell": false,
   "toc_position": {},
   "toc_section_display": true,
   "toc_window_display": false
  }
 },
 "nbformat": 4,
 "nbformat_minor": 2
}
